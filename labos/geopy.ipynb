{
 "cells": [
  {
   "cell_type": "code",
   "execution_count": 8,
   "id": "9fb69638-929e-4c3a-a906-fbbd4aa1e2aa",
   "metadata": {},
   "outputs": [],
   "source": [
    "from geopy.geocoders import Nominatim"
   ]
  },
  {
   "cell_type": "code",
   "execution_count": 7,
   "id": "3ea96354-9864-4397-aa88-4cd5453fa0f6",
   "metadata": {},
   "outputs": [],
   "source": [
    "geolocator = Nominatim(user_agent=\"GeoLoc\")"
   ]
  },
  {
   "cell_type": "code",
   "execution_count": 11,
   "id": "d5065e88-6b49-472d-b060-cbe02c936e35",
   "metadata": {
    "tags": []
   },
   "outputs": [],
   "source": [
    "loc = geolocator.geocode(\"France\")"
   ]
  },
  {
   "cell_type": "code",
   "execution_count": 12,
   "id": "4eee2812-921e-4948-9f82-1506c0d55977",
   "metadata": {
    "tags": []
   },
   "outputs": [
    {
     "data": {
      "text/plain": [
       "1.8883335"
      ]
     },
     "execution_count": 12,
     "metadata": {},
     "output_type": "execute_result"
    }
   ],
   "source": [
    "loc.longitude"
   ]
  },
  {
   "cell_type": "code",
   "execution_count": 13,
   "id": "048a8600-c948-4a08-9a1e-6bb7613029bb",
   "metadata": {
    "tags": []
   },
   "outputs": [
    {
     "data": {
      "text/plain": [
       "46.603354"
      ]
     },
     "execution_count": 13,
     "metadata": {},
     "output_type": "execute_result"
    }
   ],
   "source": [
    "loc.latitude"
   ]
  },
  {
   "cell_type": "code",
   "execution_count": null,
   "id": "49dc8bbd-e77d-40f1-84c7-3f5b8c9698b0",
   "metadata": {},
   "outputs": [],
   "source": []
  }
 ],
 "metadata": {
  "kernelspec": {
   "display_name": ".venv",
   "language": "python",
   "name": ".venv"
  },
  "language_info": {
   "codemirror_mode": {
    "name": "ipython",
    "version": 3
   },
   "file_extension": ".py",
   "mimetype": "text/x-python",
   "name": "python",
   "nbconvert_exporter": "python",
   "pygments_lexer": "ipython3",
   "version": "3.11.3"
  }
 },
 "nbformat": 4,
 "nbformat_minor": 5
}
